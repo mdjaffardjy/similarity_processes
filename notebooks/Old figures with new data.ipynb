{
 "cells": [
  {
   "cell_type": "code",
   "execution_count": 1,
   "metadata": {},
   "outputs": [],
   "source": [
    "import numpy as np\n",
    "import pandas as pd\n",
    "import matplotlib.pyplot as plt\n",
    "import glob, os, shutil\n",
    "import statistics\n",
    "import json \n",
    "import requests\n",
    "from difflib import SequenceMatcher\n",
    "import sys\n",
    "#sys.path.insert(1, '/home/marinedjaffardjy/Documents/wf_features/src/parsing')\n",
    "#import parsing_snkmk as ps\n",
    "#import get_characteristics as t\n",
    "import json"
   ]
  },
  {
   "cell_type": "code",
   "execution_count": 2,
   "metadata": {},
   "outputs": [],
   "source": [
    "def importing_json_files(file_wf):\n",
    "    f_wf = open(file_wf) #informations for nf\n",
    "    # returns JSON object as\n",
    "    # a dictionary\n",
    "    wf = json.load(f_wf)\n",
    "    f_wf.close\n",
    "    return wf"
   ]
  },
  {
   "cell_type": "code",
   "execution_count": 3,
   "metadata": {},
   "outputs": [],
   "source": [
    "#importing the wf and auth dict (github info)\n",
    "dict_nf = importing_json_files('json/wf_new_crawl_nextflow.json')\n",
    "auth_nf = importing_json_files('json/author_clem_nf.json')\n",
    "dict_snk = importing_json_files('json/wf_crawl_snakemake.json')\n",
    "auth_snk = importing_json_files('json/author_clem_snk.json')\n"
   ]
  },
  {
   "cell_type": "code",
   "execution_count": 4,
   "metadata": {},
   "outputs": [],
   "source": [
    "#importing the similarity groups\n",
    "with open(\"/home/marinedjaffardjy/Documents/Code/Similarite_process/json/simil_groups_levenshtein_500.json\") as f:\n",
    "    groups_500 = json.load(f)\n",
    "#treshold of 0.8, snakemake"
   ]
  },
  {
   "cell_type": "markdown",
   "metadata": {},
   "source": [
    "Making the similarity dataframes"
   ]
  },
  {
   "cell_type": "code",
   "execution_count": 7,
   "metadata": {},
   "outputs": [],
   "source": [
    "def sim_to_df_snk(groups_list, dict_wf): \n",
    "    groups_sim_df = pd.DataFrame(columns = ['nb_reuse', 'tools','nb_own', 'list_own', 'nb_contrib','list_contrib','nb_wf','list_wf'])\n",
    "    for group in groups_list :\n",
    "        list_own = []\n",
    "        list_wf = []\n",
    "        list_contrib = []\n",
    "        for el in group :\n",
    "            list_own.append(el['owner'])\n",
    "            list_wf.append(el['wf_orig'])\n",
    "            name_wf = el['wf_orig'].split('/')[0]+'/'+el['wf_orig'].split('/')[1]\n",
    "            for contr in dict_wf[name_wf]['contributors']:\n",
    "                list_contrib.append(contr)\n",
    "        list_own = list(set(list_own))\n",
    "        list_wf = list(set(list_wf))\n",
    "        list_contrib = list(set(list_contrib))\n",
    "        groups_sim_df = groups_sim_df.append({'nb_reuse' : len(group),\n",
    "                                             'nb_own' : len(list_own),\n",
    "                                             'tools' : group[0]['tools'],\n",
    "                                             'list_own' : list_own ,\n",
    "                                             'nb_wf' : len(list_wf),\n",
    "                                             'list_wf' : list_wf,\n",
    "                                             'list_contrib' : list_contrib,\n",
    "                                             'nb_contrib' :len(list_contrib)}, ignore_index = True)\n",
    "    return groups_sim_df"
   ]
  },
  {
   "cell_type": "code",
   "execution_count": 12,
   "metadata": {},
   "outputs": [
    {
     "data": {
      "text/plain": [
       "[497]"
      ]
     },
     "execution_count": 12,
     "metadata": {},
     "output_type": "execute_result"
    }
   ],
   "source": [
    "groups_500[2]"
   ]
  },
  {
   "cell_type": "code",
   "execution_count": 8,
   "metadata": {},
   "outputs": [
    {
     "ename": "TypeError",
     "evalue": "'int' object is not subscriptable",
     "output_type": "error",
     "traceback": [
      "\u001b[0;31m---------------------------------------------------------------------------\u001b[0m",
      "\u001b[0;31mTypeError\u001b[0m                                 Traceback (most recent call last)",
      "\u001b[0;32m<timed exec>\u001b[0m in \u001b[0;36m<module>\u001b[0;34m\u001b[0m\n",
      "\u001b[0;32m<ipython-input-7-775eea5d84b5>\u001b[0m in \u001b[0;36msim_to_df_snk\u001b[0;34m(groups_list, dict_wf)\u001b[0m\n\u001b[1;32m      6\u001b[0m         \u001b[0mlist_contrib\u001b[0m \u001b[0;34m=\u001b[0m \u001b[0;34m[\u001b[0m\u001b[0;34m]\u001b[0m\u001b[0;34m\u001b[0m\u001b[0;34m\u001b[0m\u001b[0m\n\u001b[1;32m      7\u001b[0m         \u001b[0;32mfor\u001b[0m \u001b[0mel\u001b[0m \u001b[0;32min\u001b[0m \u001b[0mgroup\u001b[0m \u001b[0;34m:\u001b[0m\u001b[0;34m\u001b[0m\u001b[0;34m\u001b[0m\u001b[0m\n\u001b[0;32m----> 8\u001b[0;31m             \u001b[0mlist_own\u001b[0m\u001b[0;34m.\u001b[0m\u001b[0mappend\u001b[0m\u001b[0;34m(\u001b[0m\u001b[0mel\u001b[0m\u001b[0;34m[\u001b[0m\u001b[0;34m'owner'\u001b[0m\u001b[0;34m]\u001b[0m\u001b[0;34m)\u001b[0m\u001b[0;34m\u001b[0m\u001b[0;34m\u001b[0m\u001b[0m\n\u001b[0m\u001b[1;32m      9\u001b[0m             \u001b[0mlist_wf\u001b[0m\u001b[0;34m.\u001b[0m\u001b[0mappend\u001b[0m\u001b[0;34m(\u001b[0m\u001b[0mel\u001b[0m\u001b[0;34m[\u001b[0m\u001b[0;34m'wf_orig'\u001b[0m\u001b[0;34m]\u001b[0m\u001b[0;34m)\u001b[0m\u001b[0;34m\u001b[0m\u001b[0;34m\u001b[0m\u001b[0m\n\u001b[1;32m     10\u001b[0m             \u001b[0mname_wf\u001b[0m \u001b[0;34m=\u001b[0m \u001b[0mel\u001b[0m\u001b[0;34m[\u001b[0m\u001b[0;34m'wf_orig'\u001b[0m\u001b[0;34m]\u001b[0m\u001b[0;34m.\u001b[0m\u001b[0msplit\u001b[0m\u001b[0;34m(\u001b[0m\u001b[0;34m'/'\u001b[0m\u001b[0;34m)\u001b[0m\u001b[0;34m[\u001b[0m\u001b[0;36m0\u001b[0m\u001b[0;34m]\u001b[0m\u001b[0;34m+\u001b[0m\u001b[0;34m'/'\u001b[0m\u001b[0;34m+\u001b[0m\u001b[0mel\u001b[0m\u001b[0;34m[\u001b[0m\u001b[0;34m'wf_orig'\u001b[0m\u001b[0;34m]\u001b[0m\u001b[0;34m.\u001b[0m\u001b[0msplit\u001b[0m\u001b[0;34m(\u001b[0m\u001b[0;34m'/'\u001b[0m\u001b[0;34m)\u001b[0m\u001b[0;34m[\u001b[0m\u001b[0;36m1\u001b[0m\u001b[0;34m]\u001b[0m\u001b[0;34m\u001b[0m\u001b[0;34m\u001b[0m\u001b[0m\n",
      "\u001b[0;31mTypeError\u001b[0m: 'int' object is not subscriptable"
     ]
    }
   ],
   "source": [
    "%%time\n",
    "df_sim_500 = sim_to_df_snk(groups_500, dict_snk)"
   ]
  },
  {
   "cell_type": "code",
   "execution_count": null,
   "metadata": {},
   "outputs": [],
   "source": [
    "def grouping_sim_df (df_sim_n):\n",
    "    df_sim = df_sim_n.copy()\n",
    "    vals = set(df_sim[\"nb_reuse\"])\n",
    "    tot_group = len(df_sim_n)\n",
    "    tot_wf = sum(df_sim_n[\"nb_wf\"])\n",
    "    tot_own = sum(df_sim_n[\"nb_own\"])\n",
    "\n",
    "    df_sim_group = pd.DataFrame(columns=[\"nb_reuse\",\"tool\", \"nb_proc\",\"prop_proc\",\"nb_own\",\"prop_own\",\"nb_wf\",\"prop_wf\"])\n",
    "    for val in vals :\n",
    "        sec_df = df_sim.loc[df_sim[\"nb_reuse\"]==val]\n",
    "        tools = []\n",
    "        for el in sec_df[\"tools\"]:\n",
    "            tools.append(el)\n",
    "        nb_proc = len(sec_df)\n",
    "        prop_proc = nb_proc/tot_group\n",
    "        nb_own = sum(sec_df[\"nb_own\"])\n",
    "        prop_own = nb_own/tot_own\n",
    "        nb_wf = sum(sec_df[\"nb_wf\"])\n",
    "        prop_wf = nb_wf/tot_wf\n",
    "        df_sim_group = df_sim_group.append({\"nb_reuse\":val,\n",
    "                                            \"tool\":tools, \n",
    "                                            \"nb_proc\":nb_proc,\n",
    "                                            \"prop_proc\":prop_proc*100.0,\n",
    "                                            \"nb_own\":nb_own,\n",
    "                                            \"prop_own\":prop_own*100.0,\n",
    "                                            \"nb_wf\":nb_wf,\n",
    "                                            \"prop_wf\":prop_wf*100.0}, ignore_index = True)\n",
    "    \n",
    "    return df_sim_group.sort_values(by=[\"nb_reuse\"], ascending=True)\n",
    "\n",
    "\n"
   ]
  },
  {
   "cell_type": "code",
   "execution_count": null,
   "metadata": {},
   "outputs": [],
   "source": [
    "df_groups_snk = grouping_sim_df(df_sim_snk)"
   ]
  },
  {
   "cell_type": "code",
   "execution_count": null,
   "metadata": {},
   "outputs": [],
   "source": [
    "def sum_columns_df(df):\n",
    "    dfret = pd.DataFrame(columns=[\"nb_reuse\",\"tool\", \"nb_proc\",\"prop_proc\",\"nb_own\",\"prop_own\",\"nb_wf\",\"prop_wf\"])\n",
    "    return dfret.append({\"nb_reuse\":list(df[\"nb_reuse\"])[0],\n",
    "                      \"tool\":list(df[\"tool\"]), \n",
    "                      \"nb_proc\":df[\"nb_proc\"].sum(),\n",
    "                      \"prop_proc\":df[\"prop_proc\"].sum(),\n",
    "                      \"nb_own\":df[\"nb_own\"].sum(),\n",
    "                      \"prop_own\":df[\"prop_own\"].sum(),\n",
    "                      \"nb_wf\":df[\"nb_wf\"].sum(),\n",
    "                      \"prop_wf\":df[\"prop_wf\"].sum()}, ignore_index=True)"
   ]
  },
  {
   "cell_type": "code",
   "execution_count": null,
   "metadata": {},
   "outputs": [],
   "source": [
    "def display_proportions_figure(df_init):\n",
    "    # découpage du wor\n",
    "    df = df_init.iloc[0:9]\n",
    "    i=9\n",
    "    ranges = []\n",
    "    while i+10 < len(df_init):\n",
    "        ranges.append(str(df_init.iloc[i][\"nb_reuse\"])+\"-\"+str(df_init.iloc[i+10][\"nb_reuse\"]))\n",
    "        sub_df = df_init.iloc[i:i+10]\n",
    "        i+=10\n",
    "        df = df.append(sum_columns_df(sub_df))\n",
    "    ranges.append(str(df_init.iloc[i][\"nb_reuse\"])+\"-\"+str(df_init.iloc[len(df_init)-1][\"nb_reuse\"]))\n",
    "    df = df.append(sum_columns_df(df_init.iloc[i:len(df_init)]))\n",
    "    fig_4 = df.plot(x=\"nb_reuse\", y=[\"prop_proc\", \"prop_wf\", 'prop_own'], kind=\"bar\", color = ['yellow','blue','red'], label = ['times used','workflows', 'owners'])\n",
    "    fig_4.set_xticklabels(fig_4.get_xticklabels()[0:9]+ ranges, rotation=80, size=5)\n",
    "    fig_4.set_xlabel('Number of times used/workflows used in/authors used by')\n",
    "    fig_4.set_ylabel('Percent of processors')\n",
    "    fig_4.legend(loc='best')\n",
    "    fig_4.set_yscale('log')\n",
    "    plt.show()\n",
    "    plt.rcParams['figure.dpi'] = 500\n",
    "    plt.rcParams['savefig.dpi'] = 500\n",
    "    \n",
    "    return fig_4"
   ]
  },
  {
   "cell_type": "code",
   "execution_count": null,
   "metadata": {},
   "outputs": [],
   "source": [
    "# top 5 most used processors nextflow\n",
    "df_sim_nf.sort_values(by=[\"nb_reuse\"], ascending = False).head(5)"
   ]
  },
  {
   "cell_type": "code",
   "execution_count": null,
   "metadata": {},
   "outputs": [],
   "source": [
    "fig_4_nf = display_proportions_figure(df_groups_nf)"
   ]
  }
 ],
 "metadata": {
  "kernelspec": {
   "display_name": "Python 3",
   "language": "python",
   "name": "python3"
  },
  "language_info": {
   "codemirror_mode": {
    "name": "ipython",
    "version": 3
   },
   "file_extension": ".py",
   "mimetype": "text/x-python",
   "name": "python",
   "nbconvert_exporter": "python",
   "pygments_lexer": "ipython3",
   "version": "3.8.5"
  }
 },
 "nbformat": 4,
 "nbformat_minor": 4
}
