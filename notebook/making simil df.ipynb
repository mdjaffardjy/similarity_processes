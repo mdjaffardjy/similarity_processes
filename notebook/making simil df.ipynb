{
 "cells": [
  {
   "cell_type": "code",
   "execution_count": 4,
   "metadata": {},
   "outputs": [],
   "source": [
    "import pandas as pd\n",
    "import os\n",
    "import numpy as np\n",
    "import json\n",
    "import jellyfish"
   ]
  },
  {
   "cell_type": "markdown",
   "metadata": {},
   "source": [
    "In this notebook we will create a scores matrix as well as group the scores for levenshtein similarity.\n",
    "We will also turn these groups into a dataframe that can be used later in the pipeline in the notebook \"new figures\""
   ]
  },
  {
   "cell_type": "code",
   "execution_count": 5,
   "metadata": {},
   "outputs": [],
   "source": [
    "#similarity scores for tools\n",
    "with open('/home/marinedjaffardjy/Documents/Code/Similarite_process/json/levenshtein_nf_tools/levenshtein_nf_tools_3800.json') as f1:\n",
    "    scores = json.load(f1)\n",
    "#snakemake rules\n",
    "with open('/home/marinedjaffardjy/Documents/Code/Investigating_reuse/json/snk_rule_info_tool.json') as f:\n",
    "    snk_rules = json.load(f)"
   ]
  },
  {
   "cell_type": "code",
   "execution_count": 12,
   "metadata": {},
   "outputs": [],
   "source": [
    "def grouping_simple(matrice_sim,obj_liste,treshold=0.85):\n",
    "    to_ignore=[]\n",
    "    groups=[]\n",
    "    i=0\n",
    "    for i in range(0,len(matrice_sim)):\n",
    "        if i not in to_ignore:\n",
    "            new_group=[i]\n",
    "            for j in range(0,len(matrice_sim[i])):\n",
    "                if(matrice_sim[i][j]>treshold):\n",
    "                    new_group.append(j)\n",
    "            groups.append(list(set(new_group)))\n",
    "            to_ignore+=new_group\n",
    "            \n",
    "    #translate the groups into snk rules\n",
    "    simil_obj=[]\n",
    "    for group in groups:\n",
    "        group_obj = []\n",
    "        for el in group:\n",
    "            group_obj.append(obj_liste[el])\n",
    "        simil_obj.append(group_obj)\n",
    "    return simil_obj\n",
    "    \n",
    "        \n",
    "        \n",
    "        "
   ]
  },
  {
   "cell_type": "code",
   "execution_count": 13,
   "metadata": {},
   "outputs": [
    {
     "name": "stdout",
     "output_type": "stream",
     "text": [
      "CPU times: user 2.37 s, sys: 123 µs, total: 2.37 s\n",
      "Wall time: 2.37 s\n"
     ]
    }
   ],
   "source": [
    "%%time\n",
    "group_snk = grouping_simple(matrix_scores,snk_rules)"
   ]
  },
  {
   "cell_type": "code",
   "execution_count": 14,
   "metadata": {},
   "outputs": [],
   "source": [
    "with open(\"/home/marinedjaffardjy/Documents/Code/Similarite_process/json/simil_groups_levenshtein_tools.json\",\"w\") as f:\n",
    "    json.dump(group_snk,f)"
   ]
  },
  {
   "cell_type": "code",
   "execution_count": 27,
   "metadata": {},
   "outputs": [],
   "source": [
    "def grouping_old(matrix_scores, treshold, snk_rules):\n",
    "    #input\n",
    "    #output\n",
    "    #getting the similarity groups per line\n",
    "    tab_sim = []\n",
    "    for line in matrix_scores:\n",
    "        simil = []\n",
    "        for i in range(0,len(line)):\n",
    "            if(line[i]>=treshold):\n",
    "                simil.append(i)\n",
    "            i+=1\n",
    "        tab_sim.append(simil)\n",
    "    #transitivity\n",
    "    #grouping the similarity groups by parsing the matrix x times (x = nb of processes)\n",
    "    #TODO : optimiser\n",
    "    \n",
    "    for i in range(len(snk_rules)-1,-1,-1):\n",
    "        new_line = []\n",
    "        to_pop = []\n",
    "        for line_nb in range(0,len(tab_sim)):\n",
    "            if i in tab_sim[line_nb]:\n",
    "                new_line = new_line+tab_sim[line_nb]\n",
    "                to_pop.append(line_nb)\n",
    "        to_pop.sort(reverse=True)\n",
    "        for p in to_pop:\n",
    "            tab_sim.pop(p)\n",
    "        tab_sim.append(list(set(new_line)))\n",
    "            \n",
    "    #translate the groups into snk rules\n",
    "    simil_snk=[]\n",
    "    for group in tab_sim:\n",
    "        group_snk = []\n",
    "        for el in group:\n",
    "            group_snk.append(snk_rules[el])\n",
    "        simil_snk.append(group_snk)\n",
    "    return simil_snk\n",
    "        \n",
    "        "
   ]
  },
  {
   "cell_type": "code",
   "execution_count": 29,
   "metadata": {},
   "outputs": [
    {
     "name": "stdout",
     "output_type": "stream",
     "text": [
      "CPU times: user 6.11 s, sys: 62.6 ms, total: 6.17 s\n",
      "Wall time: 6.19 s\n"
     ]
    }
   ],
   "source": [
    "%%time\n",
    "group_snk_old = grouping_old(matrix_scores,0.85,snk_rules)\n",
    "with open(\"/home/marinedjaffardjy/Documents/Code/Similarite_process/json/simil_groups_levenshtein_tools_old.json\",\"w\") as f:\n",
    "    json.dump(group_snk_old,f)"
   ]
  },
  {
   "cell_type": "code",
   "execution_count": 35,
   "metadata": {},
   "outputs": [],
   "source": [
    "def importing_json_files(file_wf):\n",
    "    f_wf = open(file_wf) #informations for nf\n",
    "    # returns JSON object as\n",
    "    # a dictionary\n",
    "    wf = json.load(f_wf)\n",
    "    f_wf.close\n",
    "    return wf\n",
    "\n",
    "#importing the wf and auth dict (github info)\n",
    "dict_nf = importing_json_files('json/wf_new_crawl_nextflow.json')\n",
    "auth_nf = importing_json_files('json/author_clem_nf.json')\n",
    "dict_snk = importing_json_files('json/wf_crawl_snakemake.json')\n",
    "auth_snk = importing_json_files('json/author_clem_snk.json')\n",
    "\n"
   ]
  },
  {
   "cell_type": "code",
   "execution_count": 5,
   "metadata": {},
   "outputs": [],
   "source": [
    "with open(\"/home/marinedjaffardjy/Documents/Code/Similarite_process/json/simil_groups_levenshtein_tools.json\") as f:\n",
    "    group_snk=json.load(f)"
   ]
  },
  {
   "cell_type": "code",
   "execution_count": 15,
   "metadata": {},
   "outputs": [
    {
     "data": {
      "text/plain": [
       "3724"
      ]
     },
     "execution_count": 15,
     "metadata": {},
     "output_type": "execute_result"
    }
   ],
   "source": [
    "len(group_snk)"
   ]
  },
  {
   "cell_type": "code",
   "execution_count": 16,
   "metadata": {},
   "outputs": [],
   "source": [
    "#if the groups are ill-formed\n",
    "group_snk = [x for x in group_snk if x != []]\n"
   ]
  },
  {
   "cell_type": "code",
   "execution_count": 17,
   "metadata": {},
   "outputs": [
    {
     "data": {
      "text/plain": [
       "3724"
      ]
     },
     "execution_count": 17,
     "metadata": {},
     "output_type": "execute_result"
    }
   ],
   "source": [
    "len(group_snk)"
   ]
  },
  {
   "cell_type": "code",
   "execution_count": 19,
   "metadata": {},
   "outputs": [
    {
     "data": {
      "text/plain": [
       "8670"
      ]
     },
     "execution_count": 19,
     "metadata": {},
     "output_type": "execute_result"
    }
   ],
   "source": [
    "els_groups_new=[len(x) for x in group_snk]\n",
    "sum(els_groups_new)"
   ]
  },
  {
   "cell_type": "code",
   "execution_count": 33,
   "metadata": {},
   "outputs": [],
   "source": [
    "def sim_to_df_snk(groups_list, dict_wf): \n",
    "    groups_sim_df = pd.DataFrame(columns = ['nb_reuse', 'tools','nb_own', 'list_own', 'nb_contrib','list_contrib','nb_wf','list_wf',\"list_proc\"])\n",
    "    for group in groups_list :\n",
    "        list_own = []\n",
    "        list_wf = []\n",
    "        list_contrib = []\n",
    "        for el in group :\n",
    "            list_own.append(el['owner'])\n",
    "            list_wf.append(el['wf_orig'])\n",
    "            name_wf = el['wf_orig'].split('/')[0]+'/'+el['wf_orig'].split('/')[1]\n",
    "            for contr in dict_wf[name_wf]['contributors']:\n",
    "                list_contrib.append(contr)\n",
    "        list_own = list(set(list_own))\n",
    "        list_wf = list(set(list_wf))\n",
    "        list_contrib = list(set(list_contrib))\n",
    "        groups_sim_df = groups_sim_df.append({'nb_reuse' : len(group),\n",
    "                                             'nb_own' : len(list_own),\n",
    "                                             'tools' : group[0]['tools'],\n",
    "                                             'list_own' : list_own ,\n",
    "                                             'nb_wf' : len(list_wf),\n",
    "                                             'list_wf' : list_wf,\n",
    "                                             'list_contrib' : list_contrib,\n",
    "                                             'nb_contrib' :len(list_contrib),\n",
    "                                             \"list_proc\": group}, ignore_index = True)\n",
    "    return groups_sim_df"
   ]
  },
  {
   "cell_type": "code",
   "execution_count": 36,
   "metadata": {},
   "outputs": [
    {
     "name": "stdout",
     "output_type": "stream",
     "text": [
      "CPU times: user 18.7 s, sys: 64.3 ms, total: 18.8 s\n",
      "Wall time: 18.8 s\n"
     ]
    }
   ],
   "source": [
    "%%time\n",
    "df_sim_snk = sim_to_df_snk(group_snk, dict_snk)"
   ]
  },
  {
   "cell_type": "code",
   "execution_count": 16,
   "metadata": {
    "scrolled": true
   },
   "outputs": [
    {
     "data": {
      "text/plain": [
       "2233"
      ]
     },
     "execution_count": 16,
     "metadata": {},
     "output_type": "execute_result"
    }
   ],
   "source": [
    "len(df_sim_snk)"
   ]
  },
  {
   "cell_type": "code",
   "execution_count": 37,
   "metadata": {},
   "outputs": [],
   "source": [
    "#save the files\n",
    "df_sim_snk.to_csv('csv/df_groups_lev_tools_snk.csv')"
   ]
  },
  {
   "cell_type": "code",
   "execution_count": 28,
   "metadata": {},
   "outputs": [
    {
     "data": {
      "text/html": [
       "<div>\n",
       "<style scoped>\n",
       "    .dataframe tbody tr th:only-of-type {\n",
       "        vertical-align: middle;\n",
       "    }\n",
       "\n",
       "    .dataframe tbody tr th {\n",
       "        vertical-align: top;\n",
       "    }\n",
       "\n",
       "    .dataframe thead th {\n",
       "        text-align: right;\n",
       "    }\n",
       "</style>\n",
       "<table border=\"1\" class=\"dataframe\">\n",
       "  <thead>\n",
       "    <tr style=\"text-align: right;\">\n",
       "      <th></th>\n",
       "      <th>nb_reuse</th>\n",
       "      <th>tools</th>\n",
       "      <th>nb_own</th>\n",
       "      <th>list_own</th>\n",
       "      <th>nb_contrib</th>\n",
       "      <th>list_contrib</th>\n",
       "      <th>nb_wf</th>\n",
       "      <th>list_wf</th>\n",
       "      <th>list_proc</th>\n",
       "    </tr>\n",
       "  </thead>\n",
       "  <tbody>\n",
       "    <tr>\n",
       "      <th>2176</th>\n",
       "      <td>3414</td>\n",
       "      <td>[FLASH]</td>\n",
       "      <td>410</td>\n",
       "      <td>[michalogit, chuckzzzz, pawel125, supernifty, ...</td>\n",
       "      <td>549</td>\n",
       "      <td>[michalogit, w-bonelli, jvanheld, chuckzzzz, b...</td>\n",
       "      <td>912</td>\n",
       "      <td>[itatop/popsimenv/3, wfondrie/snakemake-beer-p...</td>\n",
       "      <td>[{'name': 'Merge_Pairs_With_Flash', 'code': '(...</td>\n",
       "    </tr>\n",
       "    <tr>\n",
       "      <th>2080</th>\n",
       "      <td>8</td>\n",
       "      <td>[SAMtools, SAMtools]</td>\n",
       "      <td>1</td>\n",
       "      <td>[CGI-stLFR]</td>\n",
       "      <td>1</td>\n",
       "      <td>[Ellis-Anderson]</td>\n",
       "      <td>2</td>\n",
       "      <td>[CGI-stLFR/CGI_de_novo_sim_Pipeline/1, CGI-stL...</td>\n",
       "      <td>[{'name': 'run_minimap_binned_contigs_refA', '...</td>\n",
       "    </tr>\n",
       "    <tr>\n",
       "      <th>1933</th>\n",
       "      <td>8</td>\n",
       "      <td>[SAMtools]</td>\n",
       "      <td>1</td>\n",
       "      <td>[GeorgiaBreckell]</td>\n",
       "      <td>1</td>\n",
       "      <td>[GeorgiaBreckell]</td>\n",
       "      <td>1</td>\n",
       "      <td>[GeorgiaBreckell/assembly_pipeline/1]</td>\n",
       "      <td>[{'name': 'samtools_coverage_nanopore', 'code'...</td>\n",
       "    </tr>\n",
       "    <tr>\n",
       "      <th>1809</th>\n",
       "      <td>6</td>\n",
       "      <td>[MultiQC]</td>\n",
       "      <td>2</td>\n",
       "      <td>[LoGT-KULeuven, LUMC]</td>\n",
       "      <td>4</td>\n",
       "      <td>[Redmar-van-den-Berg, rhpvorderman, 0mician, s...</td>\n",
       "      <td>3</td>\n",
       "      <td>[LoGT-KULeuven/y2h_Bam35-Bt_analysis/2, LoGT-K...</td>\n",
       "      <td>[{'name': 'multiqc', 'code': '(name='multiqc',...</td>\n",
       "    </tr>\n",
       "    <tr>\n",
       "      <th>1275</th>\n",
       "      <td>6</td>\n",
       "      <td>[Snakemake]</td>\n",
       "      <td>3</td>\n",
       "      <td>[dmvandenberg, ares-lab, arielgalindoalbarran]</td>\n",
       "      <td>7</td>\n",
       "      <td>[dmvandenberg, amedina-liigh, jaimicore, jvanh...</td>\n",
       "      <td>4</td>\n",
       "      <td>[arielgalindoalbarran/Epromoters/4, dmvandenbe...</td>\n",
       "      <td>[{'name': 'dag', 'code': '(name='dag', lineno=...</td>\n",
       "    </tr>\n",
       "    <tr>\n",
       "      <th>...</th>\n",
       "      <td>...</td>\n",
       "      <td>...</td>\n",
       "      <td>...</td>\n",
       "      <td>...</td>\n",
       "      <td>...</td>\n",
       "      <td>...</td>\n",
       "      <td>...</td>\n",
       "      <td>...</td>\n",
       "      <td>...</td>\n",
       "    </tr>\n",
       "    <tr>\n",
       "      <th>2089</th>\n",
       "      <td>1</td>\n",
       "      <td>[SAMtools]</td>\n",
       "      <td>1</td>\n",
       "      <td>[CGI-stLFR]</td>\n",
       "      <td>2</td>\n",
       "      <td>[arcadianlyric, Ellis-Anderson]</td>\n",
       "      <td>1</td>\n",
       "      <td>[CGI-stLFR/CGI_WGS_Pipeline/3]</td>\n",
       "      <td>[{'name': 'run_flagstat', 'code': '(name='run_...</td>\n",
       "    </tr>\n",
       "    <tr>\n",
       "      <th>2158</th>\n",
       "      <td>1</td>\n",
       "      <td>[Bowtie]</td>\n",
       "      <td>1</td>\n",
       "      <td>[AlexanderMoerseburg]</td>\n",
       "      <td>1</td>\n",
       "      <td>[SherineAwad]</td>\n",
       "      <td>1</td>\n",
       "      <td>[AlexanderMoerseburg/ATAC-Seq/1]</td>\n",
       "      <td>[{'name': 'tosam', 'code': '(name='tosam', lin...</td>\n",
       "    </tr>\n",
       "    <tr>\n",
       "      <th>2090</th>\n",
       "      <td>1</td>\n",
       "      <td>[SAMtools]</td>\n",
       "      <td>1</td>\n",
       "      <td>[CGI-stLFR]</td>\n",
       "      <td>2</td>\n",
       "      <td>[arcadianlyric, Ellis-Anderson]</td>\n",
       "      <td>1</td>\n",
       "      <td>[CGI-stLFR/CGI_WGS_Pipeline/3]</td>\n",
       "      <td>[{'name': 'duplicate_analysis', 'code': '(name...</td>\n",
       "    </tr>\n",
       "    <tr>\n",
       "      <th>2094</th>\n",
       "      <td>1</td>\n",
       "      <td>[Bowtie]</td>\n",
       "      <td>1</td>\n",
       "      <td>[CFarcy]</td>\n",
       "      <td>1</td>\n",
       "      <td>[CFarcy]</td>\n",
       "      <td>1</td>\n",
       "      <td>[CFarcy/snakemake_for_tassel/1]</td>\n",
       "      <td>[{'name': 'bowtie2', 'code': '(name='bowtie2',...</td>\n",
       "    </tr>\n",
       "    <tr>\n",
       "      <th>2232</th>\n",
       "      <td>1</td>\n",
       "      <td>[VSEARCH]</td>\n",
       "      <td>1</td>\n",
       "      <td>[AAFC-BICoE]</td>\n",
       "      <td>2</td>\n",
       "      <td>[cgendreau, jacksoneyres]</td>\n",
       "      <td>1</td>\n",
       "      <td>[AAFC-BICoE/snakemake-barcoding-assembly-pipel...</td>\n",
       "      <td>[{'name': 'vsearch', 'code': '(name='vsearch',...</td>\n",
       "    </tr>\n",
       "  </tbody>\n",
       "</table>\n",
       "<p>2233 rows × 9 columns</p>\n",
       "</div>"
      ],
      "text/plain": [
       "     nb_reuse                 tools nb_own  \\\n",
       "2176     3414               [FLASH]    410   \n",
       "2080        8  [SAMtools, SAMtools]      1   \n",
       "1933        8            [SAMtools]      1   \n",
       "1809        6             [MultiQC]      2   \n",
       "1275        6           [Snakemake]      3   \n",
       "...       ...                   ...    ...   \n",
       "2089        1            [SAMtools]      1   \n",
       "2158        1              [Bowtie]      1   \n",
       "2090        1            [SAMtools]      1   \n",
       "2094        1              [Bowtie]      1   \n",
       "2232        1             [VSEARCH]      1   \n",
       "\n",
       "                                               list_own nb_contrib  \\\n",
       "2176  [michalogit, chuckzzzz, pawel125, supernifty, ...        549   \n",
       "2080                                        [CGI-stLFR]          1   \n",
       "1933                                  [GeorgiaBreckell]          1   \n",
       "1809                              [LoGT-KULeuven, LUMC]          4   \n",
       "1275     [dmvandenberg, ares-lab, arielgalindoalbarran]          7   \n",
       "...                                                 ...        ...   \n",
       "2089                                        [CGI-stLFR]          2   \n",
       "2158                              [AlexanderMoerseburg]          1   \n",
       "2090                                        [CGI-stLFR]          2   \n",
       "2094                                           [CFarcy]          1   \n",
       "2232                                       [AAFC-BICoE]          2   \n",
       "\n",
       "                                           list_contrib nb_wf  \\\n",
       "2176  [michalogit, w-bonelli, jvanheld, chuckzzzz, b...   912   \n",
       "2080                                   [Ellis-Anderson]     2   \n",
       "1933                                  [GeorgiaBreckell]     1   \n",
       "1809  [Redmar-van-den-Berg, rhpvorderman, 0mician, s...     3   \n",
       "1275  [dmvandenberg, amedina-liigh, jaimicore, jvanh...     4   \n",
       "...                                                 ...   ...   \n",
       "2089                    [arcadianlyric, Ellis-Anderson]     1   \n",
       "2158                                      [SherineAwad]     1   \n",
       "2090                    [arcadianlyric, Ellis-Anderson]     1   \n",
       "2094                                           [CFarcy]     1   \n",
       "2232                          [cgendreau, jacksoneyres]     1   \n",
       "\n",
       "                                                list_wf  \\\n",
       "2176  [itatop/popsimenv/3, wfondrie/snakemake-beer-p...   \n",
       "2080  [CGI-stLFR/CGI_de_novo_sim_Pipeline/1, CGI-stL...   \n",
       "1933              [GeorgiaBreckell/assembly_pipeline/1]   \n",
       "1809  [LoGT-KULeuven/y2h_Bam35-Bt_analysis/2, LoGT-K...   \n",
       "1275  [arielgalindoalbarran/Epromoters/4, dmvandenbe...   \n",
       "...                                                 ...   \n",
       "2089                     [CGI-stLFR/CGI_WGS_Pipeline/3]   \n",
       "2158                   [AlexanderMoerseburg/ATAC-Seq/1]   \n",
       "2090                     [CGI-stLFR/CGI_WGS_Pipeline/3]   \n",
       "2094                    [CFarcy/snakemake_for_tassel/1]   \n",
       "2232  [AAFC-BICoE/snakemake-barcoding-assembly-pipel...   \n",
       "\n",
       "                                              list_proc  \n",
       "2176  [{'name': 'Merge_Pairs_With_Flash', 'code': '(...  \n",
       "2080  [{'name': 'run_minimap_binned_contigs_refA', '...  \n",
       "1933  [{'name': 'samtools_coverage_nanopore', 'code'...  \n",
       "1809  [{'name': 'multiqc', 'code': '(name='multiqc',...  \n",
       "1275  [{'name': 'dag', 'code': '(name='dag', lineno=...  \n",
       "...                                                 ...  \n",
       "2089  [{'name': 'run_flagstat', 'code': '(name='run_...  \n",
       "2158  [{'name': 'tosam', 'code': '(name='tosam', lin...  \n",
       "2090  [{'name': 'duplicate_analysis', 'code': '(name...  \n",
       "2094  [{'name': 'bowtie2', 'code': '(name='bowtie2',...  \n",
       "2232  [{'name': 'vsearch', 'code': '(name='vsearch',...  \n",
       "\n",
       "[2233 rows x 9 columns]"
      ]
     },
     "execution_count": 28,
     "metadata": {},
     "output_type": "execute_result"
    }
   ],
   "source": [
    "df_sim_snk_ord"
   ]
  },
  {
   "cell_type": "code",
   "execution_count": 24,
   "metadata": {},
   "outputs": [],
   "source": [
    "df_sim_snk_ord = df_sim_snk.sort_values(by=[\"nb_reuse\"], ascending=False)\n",
    "names_and_wf = [el[\"wf_orig\"]+\"/\"+el[\"name\"] for el in df_sim_snk_ord[\"list_proc\"][0]]"
   ]
  },
  {
   "cell_type": "code",
   "execution_count": 25,
   "metadata": {},
   "outputs": [
    {
     "data": {
      "text/plain": [
       "['zavolanlab/polyAsite_workflow/1/fq2fasta_se']"
      ]
     },
     "execution_count": 25,
     "metadata": {},
     "output_type": "execute_result"
    }
   ],
   "source": [
    "names_and_wf"
   ]
  },
  {
   "cell_type": "code",
   "execution_count": null,
   "metadata": {},
   "outputs": [],
   "source": []
  },
  {
   "cell_type": "code",
   "execution_count": null,
   "metadata": {},
   "outputs": [],
   "source": []
  },
  {
   "cell_type": "markdown",
   "metadata": {},
   "source": [
    "Other versions of grouping"
   ]
  },
  {
   "cell_type": "code",
   "execution_count": null,
   "metadata": {},
   "outputs": [],
   "source": [
    "def grouping_old_version(matrix_scores, snk_rules, thold, proc_names):\n",
    "    groups = []\n",
    "    rules = snk_rules.copy()\n",
    "    tested = []\n",
    "    for el in rules:\n",
    "        group = []\n",
    "        name_el1 = el[\"wf_orig\"]+\"/\"+el[\"name\"]\n",
    "        idx1 = proc_names.index(name_el1)\n",
    "        group = [el]\n",
    "        to_test = [idx1]\n",
    "        while len(to_test)>0:\n",
    "            testing = to_test[0]\n",
    "            tested = tested+[testing]\n",
    "            print(testing)\n",
    "            idx_n = [idx for idx, element in enumerate(matrix_scores[testing-1]) if element > thold]\n",
    "            new_to_test = []\n",
    "            for new_id in idx_n:\n",
    "                if(new_id not in tested):\n",
    "                    new_to_test.append(new_id)\n",
    "            to_test=list(set(to_test[1:]+new_to_test))\n",
    "            for test in to_test:\n",
    "                for ru in rules:\n",
    "                    wf_or = proc_names[test].replace(proc_names[test].split(\"/\")[-1],'')\n",
    "                    n = proc_names[test].split(\"/\")[-1]\n",
    "                    if(ru[\"wf_orig\"]== wf_or and ru[\"name\"]== n):\n",
    "                        group.append(ru)\n",
    "                        rules.remove(ru)\n",
    "        groups.append(group)\n",
    "    return(groups)"
   ]
  },
  {
   "cell_type": "code",
   "execution_count": 32,
   "metadata": {},
   "outputs": [],
   "source": [
    "def grouping_simple(matrix_scores, treshold, snk_rules):\n",
    "    tab_sim = []\n",
    "    for line in matrix_scores:\n",
    "        simil = []\n",
    "        for i in range(0,len(line)):\n",
    "            if(line[i]>=treshold):\n",
    "                simil.append(i)\n",
    "            i+=1\n",
    "        tab_sim.append(simil)\n",
    "    #translate the groups into snk rules\n",
    "    simil_snk=[]\n",
    "    for group in tab_sim:\n",
    "        group_snk = []\n",
    "        for el in group:\n",
    "            group_snk.append(snk_rules[el])\n",
    "        simil_snk.append(group)\n",
    "    return simil_snk\n",
    "        \n",
    "    "
   ]
  }
 ],
 "metadata": {
  "kernelspec": {
   "display_name": "Python 3",
   "language": "python",
   "name": "python3"
  },
  "language_info": {
   "codemirror_mode": {
    "name": "ipython",
    "version": 3
   },
   "file_extension": ".py",
   "mimetype": "text/x-python",
   "name": "python",
   "nbconvert_exporter": "python",
   "pygments_lexer": "ipython3",
   "version": "3.8.5"
  }
 },
 "nbformat": 4,
 "nbformat_minor": 4
}
